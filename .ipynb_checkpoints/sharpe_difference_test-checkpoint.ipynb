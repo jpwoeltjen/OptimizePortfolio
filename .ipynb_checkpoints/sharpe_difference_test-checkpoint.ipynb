{
 "cells": [
  {
   "cell_type": "markdown",
   "metadata": {},
   "source": [
    "##  Hypothesis Testing of the Sharpe Ratio"
   ]
  },
  {
   "cell_type": "markdown",
   "metadata": {},
   "source": [
    "When one is evaluating various portfolio optimization methods based on historical performance, one has to have an idea about what constitues a significant difference between Sharpe ratios. To make this process a little more rigorous I'm presenting here several statistical tests."
   ]
  },
  {
   "cell_type": "markdown",
   "metadata": {},
   "source": [
    "If returns of portfolio $ p $ and $q$ can be assumed multivariate Gaussian i.e.\n",
    "\n",
    "$\\left(\\begin{array}{c}{R_{p, t}} \\\\ {R_{q, t}}\\end{array}\\right) \\stackrel{i i d}{\\sim} \\mathrm{N}\\left(\\left(\\begin{array}{c}{\\mu_{p}} \\\\ {\\mu_{q}}\\end{array}\\right),\\left(\\begin{array}{cc}{\\sigma_{p}^{2}} & {\\sigma_{p q}} \\\\ {\\sigma_{p q}} & {\\sigma_{q}^{2}}\\end{array}\\right)\\right)$\n",
    "\n",
    "Define two vector containing the parameters and their sample estimates:\n",
    "\n",
    "$\\boldsymbol{m}=\\left(\\begin{array}{cccc}{\\mu_{p}} & {\\mu_{q}} & {\\sigma_{p}^{2}} & {\\sigma_{q}^{2}}\\end{array}\\right)^{\\prime}, \\quad \\widehat{\\boldsymbol{m}}=\\left(\\begin{array}{cccc}{\\widehat{\\mu}_{p}} & {\\widehat{\\mu}_{q}} & {\\widehat{\\sigma}_{p}^{2}} & {\\widehat{\\sigma}_{q}^{2}}\\end{array}\\right)^{\\prime}$\n",
    "\n",
    "Then \n",
    "\n",
    "$\\begin{array}{l}{\\qquad \\sqrt{T}(\\widehat{\\boldsymbol{m}}-\\boldsymbol{m}) \\stackrel{d}{\\rightarrow} \\mathrm{N}(\\mathbf{0}, \\boldsymbol{V})} \\\\ {\\text { where }} \\\\ {\\qquad \\boldsymbol{V}=\\left(\\begin{array}{cccc}{\\sigma_{p}^{2}} & {\\sigma_{p q}} & {0} & {0} \\\\ {\\sigma_{p q}} & {\\sigma_{q}^{2}} & {0} & {0} \\\\ {0} & {0} & {2 \\sigma_{p}^{4}} & {2 \\sigma_{p q}^{2}} \\\\ {0} & {0} & {2 \\sigma_{p q}^{2}} & {2 \\sigma_{q}^{4}}\\end{array}\\right)}\\end{array}$\n",
    "\n",
    "Further define the Sharpe ratio as the vector function\n",
    "\n",
    "$\\boldsymbol{\\theta}(\\boldsymbol{m})=\\left(\\begin{array}{cc}{\\theta_{p}\\left(\\mu_{p}, \\sigma_{p}^{2}\\right)} & {\\left.\\theta_{q}\\left(\\mu_{q}, \\sigma_{q}^{2}\\right)\\right)^{\\prime}=\\left(\\begin{array}{cc}{\\frac{\\mu_{p}}{\\sigma_{p}}} & {\\frac{\\mu_{q}}{\\sigma_{q}}}\\end{array}\\right)^{\\prime}}\\end{array}\\right.$\n",
    "\n",
    "with Jacobian\n",
    "\n",
    "$\\begin{aligned} \\boldsymbol{D}=\\left(\\begin{array}{ccc}{\\frac{\\partial \\theta_{p}}{\\partial \\mu_{p}}} & {\\frac{\\partial \\theta_{p}}{\\partial \\mu_{q}}} & {\\frac{\\partial \\theta_{p}}{\\partial \\sigma_{p}^{2}}} & {\\frac{\\partial \\theta_{p}}{\\partial \\sigma_{q}^{2}}} \\\\ {\\frac{\\partial \\theta_{q}}{\\partial \\mu_{p}}} & {\\frac{\\partial \\theta_{q}}{\\partial \\mu_{q}}} & {\\frac{\\partial \\theta_{q}}{\\partial \\sigma_{p}^{2}}} & {\\frac{\\partial \\theta_{q}}{\\partial \\sigma_{q}^{2}}}\\end{array}\\right) &=\\left(\\begin{array}{cccc}{\\frac{1}{\\sigma_{p}}} & {0} & {-\\frac{\\mu_{p}}{2 \\sigma_{p}^{3}}} & {0} \\\\ {0} & {\\frac{1}{\\sigma_{q}}} & {0} & {-\\frac{\\mu_{q}}{2 \\sigma_{q}^{3}}}\\end{array}\\right) \\\\ &=\\left(\\begin{array}{cccc}{\\frac{1}{\\sigma_{p}}} & {0} & {-\\frac{\\theta_{p}}{2 \\sigma_{p}^{2}}} & {0} \\\\ {0} & {\\frac{1}{\\sigma_{q}}} & {0} & {-\\frac{\\theta_{q}}{2 \\sigma_{q}^{2}}}\\end{array}\\right) \\end{aligned}$\n",
    "\n",
    "and its sample estimate\n",
    "\n",
    "$\\widehat{\\boldsymbol{\\theta}}=\\boldsymbol{\\theta}(\\widehat{\\boldsymbol{m}})=\\left(\\begin{array}{cc}{\\widehat{\\theta}_{p}} & {\\widehat{\\theta}_{q}}\\end{array}\\right)=\\left(\\begin{array}{cc}{\\frac{\\widehat{\\mu}_{p}}{\\widehat{\\sigma}_{p}^{2}}} & {\\frac{\\widehat{\\boldsymbol{\\mu}}_{q}}{\\widehat{\\sigma}_{q}^{2}}}\\end{array}\\right)$\n",
    "\n",
    "Then\n",
    "\n",
    "$\\sqrt{T}(\\boldsymbol{\\theta}(\\widehat{\\boldsymbol{m}})-\\boldsymbol{\\theta}(\\boldsymbol{m})) \\stackrel{d}{\\rightarrow} \\mathrm{N}(\\mathbf{0}, \\boldsymbol{\\Psi})$\n",
    "\n",
    "where $\\operatorname{Corr}\\left(R_{p}, R_{q}\\right)=\\varrho_{p q}=\\sigma_{p q} / \\sigma_{p} \\sigma_{q}$\n",
    "\n",
    "and \n",
    "$\\Psi=D \\Sigma D^{\\prime}$\n",
    "\n",
    "$=\\left(\\begin{array}{cccc}{\\frac{1}{\\sigma_{p}}} & {0} & {-\\frac{\\theta_{p}}{2 \\sigma_{p}^{2}}} & {0} \\\\ {0} & {\\frac{1}{\\sigma_{q}}} & {0} & {-\\frac{\\theta_{q}}{2 \\sigma_{q}^{2}}}\\end{array}\\right)\\left(\\begin{array}{cccc}{\\sigma_{p}^{2}} & {\\sigma_{p q}} & {0} & {0} \\\\ {\\sigma_{p q}} & {\\sigma_{q}^{2}} & {0} & {0} \\\\ {0} & {0} & {2 \\sigma_{p}^{4}} & {2 \\sigma_{p q}^{2}} \\\\ {0} & {0} & {2 \\sigma_{p q}^{2}} & {2 \\sigma_{q}^{4}}\\end{array}\\right)\\left(\\begin{array}{cc}{\\frac{1}{\\sigma_{p}}} & {0} \\\\ {0} & {\\frac{1}{\\sigma q}} \\\\ {-\\frac{\\theta_{p}}{2 \\sigma_{p}^{2}}} & {0} \\\\ {0} & {-\\frac{\\theta_{q}}{2 \\sigma_{q}^{2}}}\\end{array}\\right)$\n",
    "\n",
    "$=\\left(\\begin{array}{cc}{1+\\frac{\\theta_{p}^{2}}{2}} & {\\varrho_{p q}+\\frac{\\varrho_{p q}^{2} \\theta_{p} \\theta_{q}}{2}} \\\\ {\\varrho_{p q}+\\frac{\\rho_{p q}^{2} \\theta_{p} \\theta_{q}}{2}} & {1+\\frac{\\theta_{q}^{2}}{2}}\\end{array}\\right)$\n",
    "\n",
    "The asymptotic variance based on sample estimates is \n",
    "\n",
    "$\\widehat{\\operatorname{AsyVar}}\\left(\\hat{\\theta}_{p}-\\widehat{\\theta}_{q}\\right)=\\widehat{\\operatorname{AsyVar}}\\left(\\widehat{\\theta}_{p}\\right)+\\widehat{\\operatorname{AsyVar}}\\left(\\widehat{\\theta}_{q}\\right)-2 \\widehat{\\operatorname{AsyCov}}\\left(\\widehat{\\theta}_{p}, \\widehat{\\theta}_{q}\\right)$\n",
    "\n",
    "\n",
    "$=T^{-1}\\left\\{2\\left(1-\\widehat{\\varrho}_{p q}\\right)+\\frac{1}{2}\\left(\\widehat{\\theta}_{p}^{2}+\\widehat{\\theta}_{q}^{2}-2 \\widehat{\\theta}_{p} \\widehat{\\theta}_{q} \\widehat{\\varrho}_{p q}^{2}\\right)\\right\\}$\n",
    "\n",
    "Now the hypothesis $H_{0} : \\theta_{p}=\\theta_{q}$ can be based on $t=\\frac{\\widehat{\\theta}_{p}-\\widehat{\\theta}_{q}}{\\sqrt{\\widehat{\\operatorname{Asy} \\operatorname{Var}}\\left(\\widehat{\\theta}_{p}-\\widehat{\\theta}_{q}\\right)}} \\stackrel{d}{\\rightarrow} \\mathrm{N}(0,1)$"
   ]
  },
  {
   "cell_type": "code",
   "execution_count": 2,
   "metadata": {},
   "outputs": [],
   "source": [
    "from src import hypothesis\n",
    "import numpy as np\n",
    "\n",
    "\n",
    "t_stat = []\n",
    "t_stat2 = []\n",
    "n = 12*10\n",
    "MC = 5000\n",
    "for i in range(MC):\n",
    "    returns_1 = np.random.normal(0, 0.1, n)\n",
    "    returns_2 = np.random.normal(0, 0.1, n)\n",
    "    returns_3 = np.random.normal(0.01, 0.1, n)\n",
    "    \n",
    "    outcome_tn = hypothesis.jobson_korkie(returns_1, returns_2)\n",
    "    t_stat.append(outcome_tn['t_statistic'])\n",
    "    \n",
    "    outcome_fn = hypothesis.jobson_korkie(returns_1, returns_3)\n",
    "    t_stat2.append(outcome_fn['t_statistic'])\n"
   ]
  },
  {
   "cell_type": "code",
   "execution_count": 6,
   "metadata": {},
   "outputs": [
    {
     "data": {
      "image/png": "[encoded data removed]",
      "text/plain": [
       "<matplotlib.figure.Figure at 0x1a177bbf60>"
      ]
     },
     "metadata": {},
     "output_type": "display_data"
    }
   ],
   "source": [
    "from matplotlib import pyplot as plt\n",
    "plt.style.use('seaborn')\n",
    "\n",
    "plt.hist(t_stat, bins=50, alpha=0.5)\n",
    "plt.hist(t_stat2, bins=50, alpha=0.5)\n",
    "plt.title('t-stat histogram: true null vs. false null')\n",
    "plt.xlabel = 't-statistic'\n",
    "plt.ylabel = 'frequency'\n",
    "plt.show()"
   ]
  },
  {
   "cell_type": "code",
   "execution_count": null,
   "metadata": {},
   "outputs": [],
   "source": []
  }
 ],
 "metadata": {
  "kernelspec": {
   "display_name": "Python 3",
   "language": "python",
   "name": "python3"
  },
  "language_info": {
   "codemirror_mode": {
    "name": "ipython",
    "version": 3
   },
   "file_extension": ".py",
   "mimetype": "text/x-python",
   "name": "python",
   "nbconvert_exporter": "python",
   "pygments_lexer": "ipython3",
   "version": "3.6.1"
  }
 },
 "nbformat": 4,
 "nbformat_minor": 2
}
