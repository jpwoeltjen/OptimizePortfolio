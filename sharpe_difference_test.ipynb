{
 "cells": [
  {
   "cell_type": "markdown",
   "metadata": {},
   "source": [
    "##  Hypothesis Testing of the Sharpe Ratio"
   ]
  },
  {
   "cell_type": "markdown",
   "metadata": {},
   "source": [
    "When one is evaluating various portfolio optimization methods based on historical performance, one has to have an idea about what constitues a significant difference between Sharpe ratios. To make this process a little more rigorous I'm presenting here several statistical tests."
   ]
  },
  {
   "cell_type": "markdown",
   "metadata": {},
   "source": [
    "If returns of portfolio $ p $ and $q$ can be assumed multivariate Gaussian i.e.\n",
    "\n",
    "$\\left(\\begin{array}{c}{R_{p, t}} \\\\ {R_{q, t}}\\end{array}\\right) \\stackrel{i i d}{\\sim} \\mathrm{N}\\left(\\left(\\begin{array}{c}{\\mu_{p}} \\\\ {\\mu_{q}}\\end{array}\\right),\\left(\\begin{array}{cc}{\\sigma_{p}^{2}} & {\\sigma_{p q}} \\\\ {\\sigma_{p q}} & {\\sigma_{q}^{2}}\\end{array}\\right)\\right)$\n",
    "\n",
    "Define two vector containing the parameters and their sample estimates:\n",
    "\n",
    "$\\boldsymbol{m}=\\left(\\begin{array}{cccc}{\\mu_{p}} & {\\mu_{q}} & {\\sigma_{p}^{2}} & {\\sigma_{q}^{2}}\\end{array}\\right)^{\\prime}, \\quad \\widehat{\\boldsymbol{m}}=\\left(\\begin{array}{cccc}{\\widehat{\\mu}_{p}} & {\\widehat{\\mu}_{q}} & {\\widehat{\\sigma}_{p}^{2}} & {\\widehat{\\sigma}_{q}^{2}}\\end{array}\\right)^{\\prime}$\n",
    "\n",
    "Then \n",
    "\n",
    "$$\\begin{array}{l}{\\qquad \\sqrt{T}(\\widehat{\\boldsymbol{m}}-\\boldsymbol{m}) \\stackrel{d}{\\rightarrow} \\mathrm{N}(\\mathbf{0}, \\boldsymbol{V})} \\\\ {\\text { where }} \\\\ {\\qquad \\boldsymbol{V}=\\left(\\begin{array}{cccc}{\\sigma_{p}^{2}} & {\\sigma_{p q}} & {0} & {0} \\\\ {\\sigma_{p q}} & {\\sigma_{q}^{2}} & {0} & {0} \\\\ {0} & {0} & {2 \\sigma_{p}^{4}} & {2 \\sigma_{p q}^{2}} \\\\ {0} & {0} & {2 \\sigma_{p q}^{2}} & {2 \\sigma_{q}^{4}}\\end{array}\\right)}\\end{array}$$"
   ]
  },
  {
   "cell_type": "code",
   "execution_count": null,
   "metadata": {},
   "outputs": [],
   "source": []
  }
 ],
 "metadata": {
  "kernelspec": {
   "display_name": "Python 3",
   "language": "python",
   "name": "python3"
  },
  "language_info": {
   "codemirror_mode": {
    "name": "ipython",
    "version": 3
   },
   "file_extension": ".py",
   "mimetype": "text/x-python",
   "name": "python",
   "nbconvert_exporter": "python",
   "pygments_lexer": "ipython3",
   "version": "3.6.1"
  }
 },
 "nbformat": 4,
 "nbformat_minor": 2
}
